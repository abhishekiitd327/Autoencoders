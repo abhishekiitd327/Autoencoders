{
 "cells": [
  {
   "cell_type": "code",
   "execution_count": 1,
   "metadata": {},
   "outputs": [
    {
     "name": "stderr",
     "output_type": "stream",
     "text": [
      "/Users/abkuma/anaconda3/lib/python3.6/site-packages/h5py/__init__.py:36: FutureWarning: Conversion of the second argument of issubdtype from `float` to `np.floating` is deprecated. In future, it will be treated as `np.float64 == np.dtype(float).type`.\n",
      "  from ._conv import register_converters as _register_converters\n",
      "Using TensorFlow backend.\n"
     ]
    }
   ],
   "source": [
    "from keras.models import Model\n",
    "from keras.layers import Input, Dense\n",
    "from keras.datasets import mnist\n",
    "import numpy as np\n",
    "import matplotlib.pyplot as plt"
   ]
  },
  {
   "cell_type": "code",
   "execution_count": 2,
   "metadata": {},
   "outputs": [],
   "source": [
    "encoding_dim = 64"
   ]
  },
  {
   "cell_type": "code",
   "execution_count": 3,
   "metadata": {},
   "outputs": [
    {
     "name": "stdout",
     "output_type": "stream",
     "text": [
      "WARNING:tensorflow:From /Users/abkuma/anaconda3/lib/python3.6/site-packages/tensorflow/python/framework/op_def_library.py:263: colocate_with (from tensorflow.python.framework.ops) is deprecated and will be removed in a future version.\n",
      "Instructions for updating:\n",
      "Colocations handled automatically by placer.\n"
     ]
    }
   ],
   "source": [
    "input_img = Input(shape=(784,))\n",
    "encoded = Dense(encoding_dim, activation='relu')(input_img)\n",
    "decoded = Dense(784, activation='sigmoid')(encoded)\n",
    "\n",
    "autoencoder = Model(input_img, decoded)\n",
    "\n",
    "encoder = Model(input_img, encoded)\n",
    "\n",
    "encoded_input = Input(shape=(encoding_dim,))\n",
    "\n",
    "decoder_layer = autoencoder.layers[-1]\n",
    "\n",
    "decoder = Model(encoded_input, decoder_layer(encoded_input))"
   ]
  },
  {
   "cell_type": "code",
   "execution_count": 4,
   "metadata": {},
   "outputs": [],
   "source": [
    "autoencoder.compile(optimizer='adadelta', loss = 'binary_crossentropy')"
   ]
  },
  {
   "cell_type": "markdown",
   "metadata": {},
   "source": [
    "# Load mnist dataset"
   ]
  },
  {
   "cell_type": "code",
   "execution_count": 6,
   "metadata": {},
   "outputs": [
    {
     "name": "stdout",
     "output_type": "stream",
     "text": [
      "x_train shape = (60000, 784)\n",
      "x_test shape = (10000, 784)\n"
     ]
    }
   ],
   "source": [
    "(x_train, _),(x_test, _) = mnist.load_data()\n",
    "\n",
    "x_train = x_train.astype('float32')/255\n",
    "x_test = x_test.astype('float32')/255\n",
    "x_train = x_train.reshape((len(x_train), (np.prod(x_train.shape[1:]))))\n",
    "x_test = x_test.reshape((len(x_test), (np.prod(x_test.shape[1:]))))\n",
    "\n",
    "print(f'x_train shape = {x_train.shape}')\n",
    "print(f'x_test shape = {x_test.shape}')"
   ]
  },
  {
   "cell_type": "markdown",
   "metadata": {},
   "source": [
    "# Fit data"
   ]
  },
  {
   "cell_type": "code",
   "execution_count": 7,
   "metadata": {},
   "outputs": [
    {
     "name": "stdout",
     "output_type": "stream",
     "text": [
      "WARNING:tensorflow:From /Users/abkuma/anaconda3/lib/python3.6/site-packages/tensorflow/python/ops/math_ops.py:3066: to_int32 (from tensorflow.python.ops.math_ops) is deprecated and will be removed in a future version.\n",
      "Instructions for updating:\n",
      "Use tf.cast instead.\n",
      "Train on 60000 samples, validate on 10000 samples\n",
      "Epoch 1/50\n",
      "60000/60000 [==============================] - 2s 39us/step - loss: 0.3473 - val_loss: 0.2671\n",
      "Epoch 2/50\n",
      "60000/60000 [==============================] - 2s 35us/step - loss: 0.2564 - val_loss: 0.2418\n",
      "Epoch 3/50\n",
      "60000/60000 [==============================] - 2s 37us/step - loss: 0.2305 - val_loss: 0.2178\n",
      "Epoch 4/50\n",
      "60000/60000 [==============================] - 2s 38us/step - loss: 0.2105 - val_loss: 0.2013\n",
      "Epoch 5/50\n",
      "60000/60000 [==============================] - 3s 43us/step - loss: 0.1965 - val_loss: 0.1893\n",
      "Epoch 6/50\n",
      "60000/60000 [==============================] - 3s 46us/step - loss: 0.1862 - val_loss: 0.1803\n",
      "Epoch 7/50\n",
      "60000/60000 [==============================] - 3s 49us/step - loss: 0.1778 - val_loss: 0.1725\n",
      "Epoch 8/50\n",
      "60000/60000 [==============================] - 3s 46us/step - loss: 0.1705 - val_loss: 0.1660\n",
      "Epoch 9/50\n",
      "60000/60000 [==============================] - 3s 45us/step - loss: 0.1642 - val_loss: 0.1599\n",
      "Epoch 10/50\n",
      "60000/60000 [==============================] - 3s 47us/step - loss: 0.1587 - val_loss: 0.1548\n",
      "Epoch 11/50\n",
      "60000/60000 [==============================] - 3s 47us/step - loss: 0.1537 - val_loss: 0.1500\n",
      "Epoch 12/50\n",
      "60000/60000 [==============================] - 3s 46us/step - loss: 0.1493 - val_loss: 0.1457\n",
      "Epoch 13/50\n",
      "60000/60000 [==============================] - 3s 49us/step - loss: 0.1453 - val_loss: 0.1420\n",
      "Epoch 14/50\n",
      "60000/60000 [==============================] - 3s 51us/step - loss: 0.1417 - val_loss: 0.1385\n",
      "Epoch 15/50\n",
      "60000/60000 [==============================] - 3s 51us/step - loss: 0.1384 - val_loss: 0.1354\n",
      "Epoch 16/50\n",
      "60000/60000 [==============================] - 3s 53us/step - loss: 0.1353 - val_loss: 0.1324\n",
      "Epoch 17/50\n",
      "60000/60000 [==============================] - 3s 52us/step - loss: 0.1325 - val_loss: 0.1295\n",
      "Epoch 18/50\n",
      "60000/60000 [==============================] - 3s 53us/step - loss: 0.1298 - val_loss: 0.1269\n",
      "Epoch 19/50\n",
      "60000/60000 [==============================] - 3s 55us/step - loss: 0.1272 - val_loss: 0.1245\n",
      "Epoch 20/50\n",
      "60000/60000 [==============================] - 4s 58us/step - loss: 0.1247 - val_loss: 0.1220\n",
      "Epoch 21/50\n",
      "60000/60000 [==============================] - 4s 62us/step - loss: 0.1224 - val_loss: 0.1197\n",
      "Epoch 22/50\n",
      "60000/60000 [==============================] - 4s 66us/step - loss: 0.1201 - val_loss: 0.1176\n",
      "Epoch 23/50\n",
      "60000/60000 [==============================] - 5s 86us/step - loss: 0.1180 - val_loss: 0.1154\n",
      "Epoch 24/50\n",
      "60000/60000 [==============================] - 6s 94us/step - loss: 0.1160 - val_loss: 0.1135\n",
      "Epoch 25/50\n",
      "60000/60000 [==============================] - 5s 84us/step - loss: 0.1141 - val_loss: 0.1117\n",
      "Epoch 26/50\n",
      "60000/60000 [==============================] - 5s 83us/step - loss: 0.1123 - val_loss: 0.1099\n",
      "Epoch 27/50\n",
      "60000/60000 [==============================] - 5s 91us/step - loss: 0.1106 - val_loss: 0.1083\n",
      "Epoch 28/50\n",
      "60000/60000 [==============================] - 7s 118us/step - loss: 0.1091 - val_loss: 0.1068\n",
      "Epoch 29/50\n",
      "60000/60000 [==============================] - 9s 147us/step - loss: 0.1076 - val_loss: 0.1055\n",
      "Epoch 30/50\n",
      "60000/60000 [==============================] - 9s 153us/step - loss: 0.1063 - val_loss: 0.1042\n",
      "Epoch 31/50\n",
      "60000/60000 [==============================] - 11s 190us/step - loss: 0.1050 - val_loss: 0.1030\n",
      "Epoch 32/50\n",
      "60000/60000 [==============================] - 10s 172us/step - loss: 0.1039 - val_loss: 0.1018\n",
      "Epoch 33/50\n",
      "60000/60000 [==============================] - 9s 156us/step - loss: 0.1028 - val_loss: 0.1008\n",
      "Epoch 34/50\n",
      "60000/60000 [==============================] - 9s 142us/step - loss: 0.1018 - val_loss: 0.0999\n",
      "Epoch 35/50\n",
      "60000/60000 [==============================] - 10s 175us/step - loss: 0.1008 - val_loss: 0.0989\n",
      "Epoch 36/50\n",
      "60000/60000 [==============================] - 10s 164us/step - loss: 0.0999 - val_loss: 0.0981\n",
      "Epoch 37/50\n",
      "60000/60000 [==============================] - 8s 139us/step - loss: 0.0991 - val_loss: 0.0973\n",
      "Epoch 38/50\n",
      "60000/60000 [==============================] - 8s 138us/step - loss: 0.0983 - val_loss: 0.0965\n",
      "Epoch 39/50\n",
      "60000/60000 [==============================] - 8s 141us/step - loss: 0.0976 - val_loss: 0.0958\n",
      "Epoch 40/50\n",
      "60000/60000 [==============================] - 8s 132us/step - loss: 0.0969 - val_loss: 0.0952\n",
      "Epoch 41/50\n",
      "60000/60000 [==============================] - 8s 128us/step - loss: 0.0962 - val_loss: 0.0946\n",
      "Epoch 42/50\n",
      "60000/60000 [==============================] - 8s 135us/step - loss: 0.0956 - val_loss: 0.0940\n",
      "Epoch 43/50\n",
      "60000/60000 [==============================] - 9s 157us/step - loss: 0.0950 - val_loss: 0.0934\n",
      "Epoch 44/50\n",
      "60000/60000 [==============================] - 9s 155us/step - loss: 0.0945 - val_loss: 0.0928\n",
      "Epoch 45/50\n",
      "60000/60000 [==============================] - 9s 151us/step - loss: 0.0939 - val_loss: 0.0923\n",
      "Epoch 46/50\n",
      "60000/60000 [==============================] - 10s 161us/step - loss: 0.0934 - val_loss: 0.0919\n",
      "Epoch 47/50\n",
      "60000/60000 [==============================] - 9s 149us/step - loss: 0.0929 - val_loss: 0.0914\n",
      "Epoch 48/50\n",
      "60000/60000 [==============================] - 8s 132us/step - loss: 0.0925 - val_loss: 0.0909\n",
      "Epoch 49/50\n",
      "60000/60000 [==============================] - 9s 144us/step - loss: 0.0920 - val_loss: 0.0905\n",
      "Epoch 50/50\n",
      "60000/60000 [==============================] - 9s 151us/step - loss: 0.0916 - val_loss: 0.0901\n"
     ]
    },
    {
     "data": {
      "text/plain": [
       "<keras.callbacks.History at 0x12f4a7f28>"
      ]
     },
     "execution_count": 7,
     "metadata": {},
     "output_type": "execute_result"
    }
   ],
   "source": [
    "autoencoder.fit(x_train, x_train, epochs=50, batch_size=256, shuffle=True,\n",
    "               validation_data=(x_test, x_test))"
   ]
  },
  {
   "cell_type": "code",
   "execution_count": 8,
   "metadata": {},
   "outputs": [],
   "source": [
    "encoded_imgs = encoder.predict(x_test)\n",
    "decoded_imgs = decoder.predict(encoded_imgs)"
   ]
  },
  {
   "cell_type": "code",
   "execution_count": 9,
   "metadata": {},
   "outputs": [
    {
     "data": {
      "image/png": "[encoded data removed]",
      "text/plain": [
       "<Figure size 1440x288 with 20 Axes>"
      ]
     },
     "metadata": {},
     "output_type": "display_data"
    }
   ],
   "source": [
    "n = 10\n",
    "plt.figure(figsize=(20,4))\n",
    "\n",
    "for i in range(n):\n",
    "    ax = plt.subplot(2, n, i+1)\n",
    "    plt.imshow(x_test[i].reshape(28, 28))\n",
    "    plt.gray()\n",
    "    ax.get_xaxis().set_visible(False)\n",
    "    ax.get_yaxis().set_visible(False)\n",
    "    \n",
    "    ax = plt.subplot(2, n, i+1+n)\n",
    "    plt.imshow(decoded_imgs[i].reshape(28,28))\n",
    "    plt.gray()\n",
    "    ax.get_xaxis().set_visible(False)\n",
    "    ax.get_yaxis().set_visible(False)\n",
    "    \n",
    "plt.show()"
   ]
  },
  {
   "cell_type": "code",
   "execution_count": null,
   "metadata": {},
   "outputs": [],
   "source": []
  }
 ],
 "metadata": {
  "kernelspec": {
   "display_name": "Python 3",
   "language": "python",
   "name": "python3"
  },
  "language_info": {
   "codemirror_mode": {
    "name": "ipython",
    "version": 3
   },
   "file_extension": ".py",
   "mimetype": "text/x-python",
   "name": "python",
   "nbconvert_exporter": "python",
   "pygments_lexer": "ipython3",
   "version": "3.6.4"
  }
 },
 "nbformat": 4,
 "nbformat_minor": 2
}
