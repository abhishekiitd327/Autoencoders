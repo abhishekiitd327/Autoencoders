{
 "cells": [
  {
   "cell_type": "markdown",
   "metadata": {},
   "source": [
    "# Import libraries"
   ]
  },
  {
   "cell_type": "code",
   "execution_count": 1,
   "metadata": {},
   "outputs": [
    {
     "name": "stderr",
     "output_type": "stream",
     "text": [
      "/Users/abkuma/anaconda3/lib/python3.6/site-packages/h5py/__init__.py:36: FutureWarning: Conversion of the second argument of issubdtype from `float` to `np.floating` is deprecated. In future, it will be treated as `np.float64 == np.dtype(float).type`.\n",
      "  from ._conv import register_converters as _register_converters\n",
      "Using TensorFlow backend.\n"
     ]
    }
   ],
   "source": [
    "from keras.models import Sequential\n",
    "from keras.layers import Dense\n",
    "import numpy as np\n",
    "from keras.datasets import mnist\n",
    "import matplotlib.pyplot as plt"
   ]
  },
  {
   "cell_type": "markdown",
   "metadata": {},
   "source": [
    "# Define model"
   ]
  },
  {
   "cell_type": "code",
   "execution_count": 2,
   "metadata": {},
   "outputs": [
    {
     "name": "stdout",
     "output_type": "stream",
     "text": [
      "WARNING:tensorflow:From /Users/abkuma/anaconda3/lib/python3.6/site-packages/tensorflow/python/framework/op_def_library.py:263: colocate_with (from tensorflow.python.framework.ops) is deprecated and will be removed in a future version.\n",
      "Instructions for updating:\n",
      "Colocations handled automatically by placer.\n"
     ]
    }
   ],
   "source": [
    "model = Sequential()\n",
    "\n",
    "model.add(Dense(128, activation='relu', input_dim=784))\n",
    "model.add(Dense(64, activation='relu'))\n",
    "\n",
    "model.add(Dense(128, activation='relu'))\n",
    "model.add(Dense(784, activation='sigmoid'))"
   ]
  },
  {
   "cell_type": "markdown",
   "metadata": {},
   "source": [
    "# Compile the model"
   ]
  },
  {
   "cell_type": "code",
   "execution_count": 3,
   "metadata": {},
   "outputs": [],
   "source": [
    "model.compile(optimizer='adadelta', loss='binary_crossentropy')"
   ]
  },
  {
   "cell_type": "markdown",
   "metadata": {},
   "source": [
    "# Load dataset"
   ]
  },
  {
   "cell_type": "code",
   "execution_count": 4,
   "metadata": {},
   "outputs": [],
   "source": [
    "(x_train, _), (x_test, _) = mnist.load_data()"
   ]
  },
  {
   "cell_type": "code",
   "execution_count": 5,
   "metadata": {},
   "outputs": [],
   "source": [
    "x_train = x_train.astype('float32')/255\n",
    "x_test = x_test.astype('float32')/255\n",
    "\n",
    "x_train = x_train.reshape((len(x_train), np.prod(x_train.shape[1:])))\n",
    "x_test = x_test.reshape((len(x_test), np.prod(x_train.shape[1:])))"
   ]
  },
  {
   "cell_type": "markdown",
   "metadata": {},
   "source": [
    "# Fit the model"
   ]
  },
  {
   "cell_type": "code",
   "execution_count": 6,
   "metadata": {},
   "outputs": [
    {
     "name": "stdout",
     "output_type": "stream",
     "text": [
      "WARNING:tensorflow:From /Users/abkuma/anaconda3/lib/python3.6/site-packages/tensorflow/python/ops/math_ops.py:3066: to_int32 (from tensorflow.python.ops.math_ops) is deprecated and will be removed in a future version.\n",
      "Instructions for updating:\n",
      "Use tf.cast instead.\n",
      "Epoch 1/50\n",
      "60000/60000 [==============================] - 3s 46us/step - loss: 0.3280\n",
      "Epoch 2/50\n",
      "60000/60000 [==============================] - 3s 42us/step - loss: 0.2482\n",
      "Epoch 3/50\n",
      "60000/60000 [==============================] - 3s 42us/step - loss: 0.2159\n",
      "Epoch 4/50\n",
      "60000/60000 [==============================] - 3s 42us/step - loss: 0.1940\n",
      "Epoch 5/50\n",
      "60000/60000 [==============================] - 3s 46us/step - loss: 0.1808\n",
      "Epoch 6/50\n",
      "60000/60000 [==============================] - 3s 46us/step - loss: 0.1706\n",
      "Epoch 7/50\n",
      "60000/60000 [==============================] - 3s 45us/step - loss: 0.1628\n",
      "Epoch 8/50\n",
      "60000/60000 [==============================] - 3s 47us/step - loss: 0.1554\n",
      "Epoch 9/50\n",
      "60000/60000 [==============================] - 3s 46us/step - loss: 0.1497\n",
      "Epoch 10/50\n",
      "60000/60000 [==============================] - 3s 47us/step - loss: 0.1445\n",
      "Epoch 11/50\n",
      "60000/60000 [==============================] - 3s 48us/step - loss: 0.1398\n",
      "Epoch 12/50\n",
      "60000/60000 [==============================] - 3s 53us/step - loss: 0.1359\n",
      "Epoch 13/50\n",
      "60000/60000 [==============================] - 3s 50us/step - loss: 0.1328\n",
      "Epoch 14/50\n",
      "60000/60000 [==============================] - 3s 49us/step - loss: 0.1298\n",
      "Epoch 15/50\n",
      "60000/60000 [==============================] - 3s 49us/step - loss: 0.1271\n",
      "Epoch 16/50\n",
      "60000/60000 [==============================] - 3s 50us/step - loss: 0.1247\n",
      "Epoch 17/50\n",
      "60000/60000 [==============================] - 3s 54us/step - loss: 0.1224\n",
      "Epoch 18/50\n",
      "60000/60000 [==============================] - 3s 55us/step - loss: 0.1203\n",
      "Epoch 19/50\n",
      "60000/60000 [==============================] - 3s 55us/step - loss: 0.1180\n",
      "Epoch 20/50\n",
      "60000/60000 [==============================] - 3s 54us/step - loss: 0.1163\n",
      "Epoch 21/50\n",
      "60000/60000 [==============================] - 3s 55us/step - loss: 0.1143\n",
      "Epoch 22/50\n",
      "60000/60000 [==============================] - 4s 60us/step - loss: 0.1128\n",
      "Epoch 23/50\n",
      "60000/60000 [==============================] - 4s 61us/step - loss: 0.1110\n",
      "Epoch 24/50\n",
      "60000/60000 [==============================] - 5s 81us/step - loss: 0.1097\n",
      "Epoch 25/50\n",
      "60000/60000 [==============================] - 7s 115us/step - loss: 0.1084\n",
      "Epoch 26/50\n",
      "60000/60000 [==============================] - 7s 116us/step - loss: 0.1074\n",
      "Epoch 27/50\n",
      "60000/60000 [==============================] - 8s 127us/step - loss: 0.1063\n",
      "Epoch 28/50\n",
      "60000/60000 [==============================] - 8s 132us/step - loss: 0.1053\n",
      "Epoch 29/50\n",
      "60000/60000 [==============================] - 8s 140us/step - loss: 0.1047\n",
      "Epoch 30/50\n",
      "60000/60000 [==============================] - 10s 166us/step - loss: 0.1037\n",
      "Epoch 31/50\n",
      "60000/60000 [==============================] - 12s 199us/step - loss: 0.1029\n",
      "Epoch 32/50\n",
      "60000/60000 [==============================] - 15s 246us/step - loss: 0.1023\n",
      "Epoch 33/50\n",
      "60000/60000 [==============================] - 13s 218us/step - loss: 0.1014\n",
      "Epoch 34/50\n",
      "60000/60000 [==============================] - 13s 224us/step - loss: 0.1010\n",
      "Epoch 35/50\n",
      "60000/60000 [==============================] - 13s 215us/step - loss: 0.1003\n",
      "Epoch 36/50\n",
      "60000/60000 [==============================] - 12s 200us/step - loss: 0.0997\n",
      "Epoch 37/50\n",
      "60000/60000 [==============================] - 12s 194us/step - loss: 0.0991\n",
      "Epoch 38/50\n",
      "60000/60000 [==============================] - 10s 172us/step - loss: 0.0986\n",
      "Epoch 39/50\n",
      "60000/60000 [==============================] - 11s 191us/step - loss: 0.0980\n",
      "Epoch 40/50\n",
      "60000/60000 [==============================] - 11s 179us/step - loss: 0.0975\n",
      "Epoch 41/50\n",
      "60000/60000 [==============================] - 10s 167us/step - loss: 0.0969\n",
      "Epoch 42/50\n",
      "60000/60000 [==============================] - 11s 179us/step - loss: 0.0964\n",
      "Epoch 43/50\n",
      "60000/60000 [==============================] - 12s 201us/step - loss: 0.0961\n",
      "Epoch 44/50\n",
      "60000/60000 [==============================] - 10s 167us/step - loss: 0.0956\n",
      "Epoch 45/50\n",
      "60000/60000 [==============================] - 10s 163us/step - loss: 0.0951\n",
      "Epoch 46/50\n",
      "60000/60000 [==============================] - 10s 161us/step - loss: 0.0947\n",
      "Epoch 47/50\n",
      "60000/60000 [==============================] - 10s 165us/step - loss: 0.0945\n",
      "Epoch 48/50\n",
      "60000/60000 [==============================] - 9s 150us/step - loss: 0.0941\n",
      "Epoch 49/50\n",
      "60000/60000 [==============================] - 9s 145us/step - loss: 0.0936\n",
      "Epoch 50/50\n",
      "60000/60000 [==============================] - 9s 157us/step - loss: 0.0933\n"
     ]
    },
    {
     "data": {
      "text/plain": [
       "<keras.callbacks.History at 0x132884d68>"
      ]
     },
     "execution_count": 6,
     "metadata": {},
     "output_type": "execute_result"
    }
   ],
   "source": [
    "model.fit(x_train, x_train, epochs=50, batch_size=256)"
   ]
  },
  {
   "cell_type": "markdown",
   "metadata": {},
   "source": [
    "# Predict output"
   ]
  },
  {
   "cell_type": "code",
   "execution_count": 8,
   "metadata": {},
   "outputs": [],
   "source": [
    "out_images = model.predict(x_test, batch_size=256)"
   ]
  },
  {
   "cell_type": "markdown",
   "metadata": {},
   "source": [
    "# Plot generated images"
   ]
  },
  {
   "cell_type": "code",
   "execution_count": 9,
   "metadata": {},
   "outputs": [
    {
     "data": {
      "image/png": "[encoded data removed]",
      "text/plain": [
       "<Figure size 1440x288 with 20 Axes>"
      ]
     },
     "metadata": {},
     "output_type": "display_data"
    }
   ],
   "source": [
    "n = 10\n",
    "plt.figure(figsize=(20,4))\n",
    "\n",
    "for i in range(n):\n",
    "    ax = plt.subplot(2, n, i+1)\n",
    "    plt.imshow(x_test[i].reshape(28, 28))\n",
    "    plt.gray()\n",
    "    \n",
    "    ax = plt.subplot(2, n, i+1+n)\n",
    "    plt.imshow(out_images[i].reshape(28, 28))\n",
    "    plt.gray()\n",
    "    \n",
    "plt.show()\n",
    "    "
   ]
  },
  {
   "cell_type": "code",
   "execution_count": null,
   "metadata": {},
   "outputs": [],
   "source": []
  }
 ],
 "metadata": {
  "kernelspec": {
   "display_name": "Python 3",
   "language": "python",
   "name": "python3"
  },
  "language_info": {
   "codemirror_mode": {
    "name": "ipython",
    "version": 3
   },
   "file_extension": ".py",
   "mimetype": "text/x-python",
   "name": "python",
   "nbconvert_exporter": "python",
   "pygments_lexer": "ipython3",
   "version": "3.6.4"
  }
 },
 "nbformat": 4,
 "nbformat_minor": 2
}
