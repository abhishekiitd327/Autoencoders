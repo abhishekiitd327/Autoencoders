{
 "cells": [
  {
   "cell_type": "code",
   "execution_count": 8,
   "metadata": {},
   "outputs": [],
   "source": [
    "from keras.models import Model\n",
    "from keras.layers import Input, Dense\n",
    "from keras.datasets import mnist\n",
    "import numpy as np\n",
    "import matplotlib.pyplot as plt"
   ]
  },
  {
   "cell_type": "code",
   "execution_count": 9,
   "metadata": {},
   "outputs": [],
   "source": [
    "encoding_dim = 64"
   ]
  },
  {
   "cell_type": "code",
   "execution_count": 23,
   "metadata": {},
   "outputs": [],
   "source": [
    "input_img = Input(shape=(784,))\n",
    "encoded = Dense(256, activation='relu')(input_img)\n",
    "encoded = Dense(128, activation='relu')(encoded)\n",
    "encoded = Dense(64, activation='relu')(encoded) #bottleneck\n",
    "\n",
    "decoded = Dense(128, activation='relu')(encoded)\n",
    "decoded = Dense(256, activation='relu')(decoded)\n",
    "decoded = Dense(784, activation='sigmoid')(decoded)\n",
    "\n",
    "autoencoder = Model(input_img, decoded)\n",
    "\n",
    "encoder = Model(input_img, encoded)\n",
    "\n",
    "encoded_input = Input(shape=(encoding_dim,))\n",
    "\n",
    "decoder_layer = autoencoder.layers[-3](encoded_input)\n",
    "decoder_layer = autoencoder.layers[-2](decoder_layer)\n",
    "decoder_layer = autoencoder.layers[-1](decoder_layer)\n",
    "\n",
    "decoder = Model(encoded_input, decoder_layer)"
   ]
  },
  {
   "cell_type": "code",
   "execution_count": 24,
   "metadata": {},
   "outputs": [],
   "source": [
    "autoencoder.compile(optimizer='adadelta', loss = 'binary_crossentropy')"
   ]
  },
  {
   "cell_type": "markdown",
   "metadata": {},
   "source": [
    "# Load mnist dataset"
   ]
  },
  {
   "cell_type": "code",
   "execution_count": 25,
   "metadata": {},
   "outputs": [
    {
     "name": "stdout",
     "output_type": "stream",
     "text": [
      "x_train shape = (60000, 784)\n",
      "x_test shape = (10000, 784)\n"
     ]
    }
   ],
   "source": [
    "(x_train, _),(x_test, _) = mnist.load_data()\n",
    "\n",
    "x_train = x_train.astype('float32')/255\n",
    "x_test = x_test.astype('float32')/255\n",
    "x_train = x_train.reshape((len(x_train), (np.prod(x_train.shape[1:]))))\n",
    "x_test = x_test.reshape((len(x_test), (np.prod(x_test.shape[1:]))))\n",
    "\n",
    "print(f'x_train shape = {x_train.shape}')\n",
    "print(f'x_test shape = {x_test.shape}')"
   ]
  },
  {
   "cell_type": "markdown",
   "metadata": {},
   "source": [
    "# Fit data"
   ]
  },
  {
   "cell_type": "code",
   "execution_count": 26,
   "metadata": {},
   "outputs": [
    {
     "name": "stdout",
     "output_type": "stream",
     "text": [
      "Train on 60000 samples, validate on 10000 samples\n",
      "Epoch 1/50\n",
      "60000/60000 [==============================] - 4s 74us/step - loss: 0.3210 - val_loss: 0.2594\n",
      "Epoch 2/50\n",
      "60000/60000 [==============================] - 4s 62us/step - loss: 0.2452 - val_loss: 0.2316\n",
      "Epoch 3/50\n",
      "60000/60000 [==============================] - 4s 62us/step - loss: 0.2148 - val_loss: 0.2020\n",
      "Epoch 4/50\n",
      "60000/60000 [==============================] - 4s 67us/step - loss: 0.1932 - val_loss: 0.1868\n",
      "Epoch 5/50\n",
      "60000/60000 [==============================] - 4s 67us/step - loss: 0.1802 - val_loss: 0.1742\n",
      "Epoch 6/50\n",
      "60000/60000 [==============================] - 4s 66us/step - loss: 0.1703 - val_loss: 0.1634\n",
      "Epoch 7/50\n",
      "60000/60000 [==============================] - 4s 68us/step - loss: 0.1622 - val_loss: 0.1569\n",
      "Epoch 8/50\n",
      "60000/60000 [==============================] - 4s 71us/step - loss: 0.1561 - val_loss: 0.1518\n",
      "Epoch 9/50\n",
      "60000/60000 [==============================] - 4s 73us/step - loss: 0.1512 - val_loss: 0.1474\n",
      "Epoch 10/50\n",
      "60000/60000 [==============================] - 4s 74us/step - loss: 0.1467 - val_loss: 0.1423\n",
      "Epoch 11/50\n",
      "60000/60000 [==============================] - 4s 70us/step - loss: 0.1425 - val_loss: 0.1419\n",
      "Epoch 12/50\n",
      "60000/60000 [==============================] - 4s 71us/step - loss: 0.1389 - val_loss: 0.1340\n",
      "Epoch 13/50\n",
      "60000/60000 [==============================] - 4s 73us/step - loss: 0.1357 - val_loss: 0.1318\n",
      "Epoch 14/50\n",
      "60000/60000 [==============================] - 5s 76us/step - loss: 0.1330 - val_loss: 0.1305\n",
      "Epoch 15/50\n",
      "60000/60000 [==============================] - 5s 80us/step - loss: 0.1308 - val_loss: 0.1301\n",
      "Epoch 16/50\n",
      "60000/60000 [==============================] - 5s 83us/step - loss: 0.1284 - val_loss: 0.1256\n",
      "Epoch 17/50\n",
      "60000/60000 [==============================] - 5s 83us/step - loss: 0.1263 - val_loss: 0.1237\n",
      "Epoch 18/50\n",
      "60000/60000 [==============================] - 5s 88us/step - loss: 0.1244 - val_loss: 0.1206\n",
      "Epoch 19/50\n",
      "60000/60000 [==============================] - 6s 95us/step - loss: 0.1223 - val_loss: 0.1188\n",
      "Epoch 20/50\n",
      "60000/60000 [==============================] - 6s 106us/step - loss: 0.1205 - val_loss: 0.1188\n",
      "Epoch 21/50\n",
      "60000/60000 [==============================] - 8s 132us/step - loss: 0.1189 - val_loss: 0.1170\n",
      "Epoch 22/50\n",
      "60000/60000 [==============================] - 8s 130us/step - loss: 0.1172 - val_loss: 0.1149\n",
      "Epoch 23/50\n",
      "60000/60000 [==============================] - 9s 144us/step - loss: 0.1158 - val_loss: 0.1163\n",
      "Epoch 24/50\n",
      "60000/60000 [==============================] - 9s 156us/step - loss: 0.1146 - val_loss: 0.1122\n",
      "Epoch 25/50\n",
      "60000/60000 [==============================] - 10s 174us/step - loss: 0.1134 - val_loss: 0.1103\n",
      "Epoch 26/50\n",
      "60000/60000 [==============================] - 14s 232us/step - loss: 0.1123 - val_loss: 0.1091\n",
      "Epoch 27/50\n",
      "60000/60000 [==============================] - 17s 279us/step - loss: 0.1113 - val_loss: 0.1123\n",
      "Epoch 28/50\n",
      "60000/60000 [==============================] - 16s 267us/step - loss: 0.1103 - val_loss: 0.1090\n",
      "Epoch 29/50\n",
      "60000/60000 [==============================] - 14s 240us/step - loss: 0.1093 - val_loss: 0.1081\n",
      "Epoch 30/50\n",
      "60000/60000 [==============================] - 14s 227us/step - loss: 0.1085 - val_loss: 0.1077\n",
      "Epoch 31/50\n",
      "60000/60000 [==============================] - 13s 211us/step - loss: 0.1079 - val_loss: 0.1081\n",
      "Epoch 32/50\n",
      "60000/60000 [==============================] - 13s 212us/step - loss: 0.1070 - val_loss: 0.1046\n",
      "Epoch 33/50\n",
      "60000/60000 [==============================] - 13s 213us/step - loss: 0.1063 - val_loss: 0.1055\n",
      "Epoch 34/50\n",
      "60000/60000 [==============================] - 13s 220us/step - loss: 0.1057 - val_loss: 0.1029\n",
      "Epoch 35/50\n",
      "60000/60000 [==============================] - 13s 211us/step - loss: 0.1048 - val_loss: 0.1033\n",
      "Epoch 36/50\n",
      "60000/60000 [==============================] - 10s 159us/step - loss: 0.1044 - val_loss: 0.1033\n",
      "Epoch 37/50\n",
      "60000/60000 [==============================] - 9s 145us/step - loss: 0.1037 - val_loss: 0.1022\n",
      "Epoch 38/50\n",
      "60000/60000 [==============================] - 8s 139us/step - loss: 0.1031 - val_loss: 0.1008\n",
      "Epoch 39/50\n",
      "60000/60000 [==============================] - 9s 148us/step - loss: 0.1025 - val_loss: 0.1004\n",
      "Epoch 40/50\n",
      "60000/60000 [==============================] - 9s 156us/step - loss: 0.1020 - val_loss: 0.1008\n",
      "Epoch 41/50\n",
      "60000/60000 [==============================] - 10s 163us/step - loss: 0.1015 - val_loss: 0.1005\n",
      "Epoch 42/50\n",
      "60000/60000 [==============================] - 9s 147us/step - loss: 0.1010 - val_loss: 0.1012\n",
      "Epoch 43/50\n",
      "60000/60000 [==============================] - 9s 147us/step - loss: 0.1006 - val_loss: 0.0982\n",
      "Epoch 44/50\n",
      "60000/60000 [==============================] - 10s 160us/step - loss: 0.1000 - val_loss: 0.0982\n",
      "Epoch 45/50\n",
      "60000/60000 [==============================] - 9s 157us/step - loss: 0.0997 - val_loss: 0.0986\n",
      "Epoch 46/50\n",
      "60000/60000 [==============================] - 9s 156us/step - loss: 0.0993 - val_loss: 0.0998\n",
      "Epoch 47/50\n",
      "60000/60000 [==============================] - 10s 165us/step - loss: 0.0988 - val_loss: 0.0965\n",
      "Epoch 48/50\n",
      "60000/60000 [==============================] - 10s 169us/step - loss: 0.0985 - val_loss: 0.0975\n",
      "Epoch 49/50\n",
      "60000/60000 [==============================] - 9s 158us/step - loss: 0.0981 - val_loss: 0.0988\n",
      "Epoch 50/50\n",
      "60000/60000 [==============================] - 10s 164us/step - loss: 0.0979 - val_loss: 0.0966\n"
     ]
    },
    {
     "data": {
      "text/plain": [
       "<keras.callbacks.History at 0x14a01cb70>"
      ]
     },
     "execution_count": 26,
     "metadata": {},
     "output_type": "execute_result"
    }
   ],
   "source": [
    "autoencoder.fit(x_train, x_train, epochs=50, batch_size=256, shuffle=True,\n",
    "               validation_data=(x_test, x_test))"
   ]
  },
  {
   "cell_type": "code",
   "execution_count": 27,
   "metadata": {},
   "outputs": [],
   "source": [
    "encoded_imgs = encoder.predict(x_test)\n",
    "decoded_imgs = decoder.predict(encoded_imgs)"
   ]
  },
  {
   "cell_type": "code",
   "execution_count": 28,
   "metadata": {},
   "outputs": [
    {
     "data": {
      "image/png": "[encoded data removed]",
      "text/plain": [
       "<Figure size 1440x288 with 20 Axes>"
      ]
     },
     "metadata": {},
     "output_type": "display_data"
    }
   ],
   "source": [
    "n = 10\n",
    "plt.figure(figsize=(20,4))\n",
    "\n",
    "for i in range(n):\n",
    "    ax = plt.subplot(2, n, i+1)\n",
    "    plt.imshow(x_test[i].reshape(28, 28))\n",
    "    plt.gray()\n",
    "    ax.get_xaxis().set_visible(False)\n",
    "    ax.get_yaxis().set_visible(False)\n",
    "    \n",
    "    ax = plt.subplot(2, n, i+1+n)\n",
    "    plt.imshow(decoded_imgs[i].reshape(28,28))\n",
    "    plt.gray()\n",
    "    ax.get_xaxis().set_visible(False)\n",
    "    ax.get_yaxis().set_visible(False)\n",
    "    \n",
    "plt.show()"
   ]
  },
  {
   "cell_type": "code",
   "execution_count": null,
   "metadata": {},
   "outputs": [],
   "source": []
  }
 ],
 "metadata": {
  "kernelspec": {
   "display_name": "Python 3",
   "language": "python",
   "name": "python3"
  },
  "language_info": {
   "codemirror_mode": {
    "name": "ipython",
    "version": 3
   },
   "file_extension": ".py",
   "mimetype": "text/x-python",
   "name": "python",
   "nbconvert_exporter": "python",
   "pygments_lexer": "ipython3",
   "version": "3.6.4"
  }
 },
 "nbformat": 4,
 "nbformat_minor": 2
}
